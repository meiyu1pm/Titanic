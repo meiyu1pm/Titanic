{
 "cells": [
  {
   "cell_type": "code",
   "execution_count": 5,
   "metadata": {},
   "outputs": [],
   "source": [
    "import numpy as np\n",
    "import pandas as pd\n",
    "from sklearn.metrics import accuracy_score\n",
    "from sklearn.model_selection import train_test_split\n",
    "import random as r"
   ]
  },
  {
   "cell_type": "code",
   "execution_count": 6,
   "metadata": {},
   "outputs": [],
   "source": [
    "df = pd.read_csv(\"../Data/titanic.csv\")\n",
    "y = df['Survived']\n",
    "X = df[['Pclass', 'Sex', 'Age', 'Siblings/Spouses Aboard', 'Parents/Children Aboard', 'Fare']]\n",
    "FamilyMembers = X.loc[:,\"Siblings/Spouses Aboard\"] + X.loc[:,'Parents/Children Aboard']\n",
    "data_train = pd.DataFrame({\n",
    "    \"Pclass\" : X[\"Pclass\"],\n",
    "    \"Sex\" : X[\"Sex\"],\n",
    "    \"Age\" : X[\"Age\"],\n",
    "    \"FamilyMembers\" : FamilyMembers,\n",
    "    \"Fare\": X[\"Fare\"]\n",
    "})"
   ]
  },
  {
   "cell_type": "markdown",
   "metadata": {},
   "source": [
    "## Bayes \n",
    "---\n",
    "- With Laplace smoothing"
   ]
  },
  {
   "cell_type": "code",
   "execution_count": 20,
   "metadata": {},
   "outputs": [],
   "source": [
    "class Titanic:\n",
    "    def __init__(self, X_train, y_train):\n",
    "        self.y_train = y_train\n",
    "        self.X_train = X_train\n",
    "        self.prioriSurvive = y_train.value_counts() / y_train.count()\n",
    "        self.Pclass_table = self.Laplace_table(y_train, X_train['Pclass'])\n",
    "        self.Sex_table = self.Laplace_table(y_train, X_train['Sex'])\n",
    "        self.Family_table = self.Laplace_table(y_train, X_train['FamilyMembers'])\n",
    "        #self.Sibling_tble = self.Laplace_table(y_train, X_train['Siblings/Spouses Aboard'])\n",
    "        #self.Parent_table = self.Laplace_table(y_train, X_train['Parents/Children Aboard'])\n",
    "        self.Age_marginal = {\n",
    "            'survive_mean' : X_train[y_train==1]['Age'].mean(),\n",
    "            'noSvive_mean' : X_train[y_train==0]['Age'].mean(),\n",
    "            'survive_var' : X_train[y_train==1]['Age'].var(),\n",
    "            'noSvive_var' : X_train[y_train==0]['Age'].var()\n",
    "        }\n",
    "        self.Fare_marginal = {\n",
    "            'survive_mean' : X_train[y_train==1]['Fare'].mean(),\n",
    "            'noSvive_mean' : X_train[y_train==0]['Fare'].mean(),\n",
    "            'survive_var' : X_train[y_train==1]['Fare'].var(),\n",
    "            'noSvive_var' : X_train[y_train==0]['Fare'].var()\n",
    "        }\n",
    "    \n",
    "    @staticmethod\n",
    "    def Laplace_table(y_train, X_Series):\n",
    "        adf = pd.crosstab(y_train, X_Series)\n",
    "        adf = adf + np.array([1]*(adf.shape[0]*adf.shape[1])).reshape(adf.shape)\n",
    "        return adf.apply(lambda col: col/ adf.sum(axis=1), axis=0)\n",
    "    \n",
    "    @staticmethod\n",
    "    def Lklhd_prb(x, _var, _mean):\n",
    "        return (1 / np.sqrt(2*np.pi*_var) * np.exp(-(x - _mean)**2/(2*_var)))\n",
    "    \n",
    "    def decision(self, X_testSeries):\n",
    "        Pclass = X_testSeries['Pclass']\n",
    "        Sex = X_testSeries['Sex']\n",
    "        Age = X_testSeries['Age']\n",
    "        Family = X_testSeries['FamilyMembers']\n",
    "        #Sibling = X_testSeries['Siblings/Spouses Aboard']\n",
    "        #Parent = X_testSeries['Parents/Children Aboard']\n",
    "        Fare = X_testSeries['Fare']\n",
    "        \n",
    "        postNo = [self.prioriSurvive[0], \n",
    "                  self.Pclass_table.loc[0, Pclass], \n",
    "                  self.Sex_table.loc[0, Sex], \n",
    "                  self.Lklhd_prb(Age, self.Age_marginal['noSvive_var'], self.Age_marginal['noSvive_mean']), \n",
    "                  self.Family_table.loc[0, Family],\n",
    "                  #self.Sibling_tble.loc[0, Sibling], \n",
    "                  #self.Parent_table.loc[0, Parent], \n",
    "                  self.Lklhd_prb(Fare, self.Fare_marginal['noSvive_var'], self.Fare_marginal['noSvive_mean'])]\n",
    "        \n",
    "        postYes = [self.prioriSurvive[1], \n",
    "                   self.Pclass_table.loc[1, Pclass],\n",
    "                   self.Sex_table.loc[1, Sex],\n",
    "                   self.Lklhd_prb(Age, self.Age_marginal['survive_var'], self.Age_marginal['survive_mean']),\n",
    "                   self.Family_table.loc[1, Family],\n",
    "                  #self.Sibling_tble.loc[1, Sibling], \n",
    "                  #self.Parent_table.loc[1, Parent],\n",
    "                   self.Lklhd_prb(Fare, self.Fare_marginal['survive_var'], self.Fare_marginal['survive_mean'])]\n",
    "        return {'postNo':postNo, 'postYes':postYes}"
   ]
  },
  {
   "cell_type": "code",
   "execution_count": 19,
   "metadata": {},
   "outputs": [
    {
     "data": {
      "text/plain": [
       "0.8202247191011236"
      ]
     },
     "execution_count": 19,
     "metadata": {},
     "output_type": "execute_result"
    }
   ],
   "source": [
    "X_train, X_test, y_train, y_test = train_test_split(data_train, y , test_size=0.2, random_state=r.randint(1,100))\n",
    "ttnc = Titanic(X_train, y_train)\n",
    "prob_List = X_test.apply(ttnc.decision, axis=1)\n",
    "y_pred = []\n",
    "for p in prob_List:\n",
    "    raw = {\n",
    "        \"No\": sum(np.log(p['postNo'])),\n",
    "        \"Yes\":sum(np.log(p['postYes']))\n",
    "    }\n",
    "    result = 1 if raw['Yes'] >= raw['No'] else 0\n",
    "    y_pred.append(result)\n",
    "accuracy_score(y_test, y_pred)"
   ]
  },
  {
   "cell_type": "markdown",
   "metadata": {},
   "source": [
    "## accuracy"
   ]
  },
  {
   "cell_type": "code",
   "execution_count": 21,
   "metadata": {},
   "outputs": [],
   "source": [
    "experiment = []\n",
    "for i in range(11):\n",
    "    X_train, X_test, y_train, y_test = train_test_split(data_train, y , test_size=0.2, random_state=r.randint(1,100))\n",
    "    ttnc = Titanic(X_train, y_train)\n",
    "    prob_List = X_test.apply(ttnc.decision, axis=1)\n",
    "    y_pred = []\n",
    "    for p in prob_List:\n",
    "        raw = {\n",
    "            \"No\": sum(np.log(p['postNo'])),\n",
    "            \"Yes\":sum(np.log(p['postYes']))\n",
    "        }\n",
    "        result = 1 if raw['Yes'] >= raw['No'] else 0\n",
    "        y_pred.append(result)\n",
    "    experiment.append(accuracy_score(y_test, y_pred))"
   ]
  },
  {
   "cell_type": "code",
   "execution_count": 22,
   "metadata": {},
   "outputs": [
    {
     "data": {
      "text/plain": [
       "0.7717058222676201"
      ]
     },
     "execution_count": 22,
     "metadata": {},
     "output_type": "execute_result"
    }
   ],
   "source": [
    "np.mean(experiment)"
   ]
  },
  {
   "cell_type": "markdown",
   "metadata": {},
   "source": [
    "# Using built-in function"
   ]
  },
  {
   "cell_type": "code",
   "execution_count": 1,
   "metadata": {},
   "outputs": [],
   "source": [
    "from sklearn.naive_bayes import GaussianNB"
   ]
  },
  {
   "cell_type": "code",
   "execution_count": 2,
   "metadata": {},
   "outputs": [],
   "source": [
    "gnb = GaussianNB()"
   ]
  },
  {
   "cell_type": "code",
   "execution_count": 25,
   "metadata": {},
   "outputs": [],
   "source": [
    "data_train['Sex'] = data_train['Sex'].map({'male':1, 'female':0})"
   ]
  },
  {
   "cell_type": "code",
   "execution_count": 29,
   "metadata": {},
   "outputs": [],
   "source": [
    "experiment = []\n",
    "for i in range(10):\n",
    "    X_train, X_test, y_train, y_test = train_test_split(data_train, y , test_size=0.2, random_state=r.randint(1,100))\n",
    "    gnb.fit(X_train, y_train)\n",
    "    y_pred = gnb.predict(X_test)\n",
    "    experiment.append(accuracy_score(y_test, y_pred))"
   ]
  },
  {
   "cell_type": "code",
   "execution_count": 30,
   "metadata": {},
   "outputs": [
    {
     "data": {
      "text/plain": [
       "0.7904494382022472"
      ]
     },
     "execution_count": 30,
     "metadata": {},
     "output_type": "execute_result"
    }
   ],
   "source": [
    "np.mean(experiment)"
   ]
  },
  {
   "cell_type": "code",
   "execution_count": null,
   "metadata": {},
   "outputs": [],
   "source": []
  }
 ],
 "metadata": {
  "kernelspec": {
   "display_name": "Python 3",
   "language": "python",
   "name": "python3"
  },
  "language_info": {
   "codemirror_mode": {
    "name": "ipython",
    "version": 3
   },
   "file_extension": ".py",
   "mimetype": "text/x-python",
   "name": "python",
   "nbconvert_exporter": "python",
   "pygments_lexer": "ipython3",
   "version": "3.8.3"
  }
 },
 "nbformat": 4,
 "nbformat_minor": 4
}
